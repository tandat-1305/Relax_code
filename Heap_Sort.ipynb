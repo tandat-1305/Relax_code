{
  "nbformat": 4,
  "nbformat_minor": 0,
  "metadata": {
    "colab": {
      "name": "Heap_Sort.ipynb",
      "provenance": [],
      "collapsed_sections": [],
      "authorship_tag": "ABX9TyOMdM75H9XwsvPuti43q/0B",
      "include_colab_link": true
    },
    "kernelspec": {
      "name": "python3",
      "display_name": "Python 3"
    },
    "language_info": {
      "name": "python"
    }
  },
  "cells": [
    {
      "cell_type": "markdown",
      "metadata": {
        "id": "view-in-github",
        "colab_type": "text"
      },
      "source": [
        "<a href=\"https://colab.research.google.com/github/tandat-1305/Relax_code/blob/main/Heap_Sort.ipynb\" target=\"_parent\"><img src=\"https://colab.research.google.com/assets/colab-badge.svg\" alt=\"Open In Colab\"/></a>"
      ]
    },
    {
      "cell_type": "code",
      "metadata": {
        "id": "C8nXhI7BZ3sq"
      },
      "source": [
        "import random"
      ],
      "execution_count": 1,
      "outputs": []
    },
    {
      "cell_type": "code",
      "metadata": {
        "colab": {
          "base_uri": "https://localhost:8080/"
        },
        "id": "g-TIHDK1Z_EY",
        "outputId": "ff1f89d8-ac05-4bc9-deab-45d7d32301f0"
      },
      "source": [
        "arr = []\n",
        "for x in range(15):\n",
        "    a = random.randint(-100,100)\n",
        "    arr.append(a)\n",
        "\n",
        "def heapify(arr, n, i):\n",
        "    largest = i  \n",
        "    l = 2 * i + 1     \n",
        "    r = 2 * i + 2    \n",
        "    if l<n and arr[i]<arr[l]:\n",
        "        largest = l\n",
        "    if r<n and arr[largest]<arr[r]:\n",
        "        largest = r\n",
        "\n",
        "    if largest != i:\n",
        "        arr[i],arr[largest] = arr[largest],arr[i]  \n",
        "        heapify(arr, n, largest)\n",
        "\n",
        "def heapSort(arr):\n",
        "    n = len(arr)\n",
        "  \n",
        "    for i in range(n // 2 - 1, -1, -1):\n",
        "        heapify(arr, n, i)\n",
        "  \n",
        "    for i in range(n-1, 0, -1):\n",
        "        arr[i], arr[0] = arr[0], arr[i]  \n",
        "        heapify(arr, i, 0)\n",
        "\n",
        "    \n",
        "print(\"array:\", arr)\n",
        "print('-'*50)\n",
        "\n",
        "heapSort(arr)\n",
        "n = len(arr)\n",
        "print (\"Sorted array : \")\n",
        "\n",
        "for i in range(n):\n",
        "    print (\"%d\" %arr[i])"
      ],
      "execution_count": 4,
      "outputs": [
        {
          "output_type": "stream",
          "text": [
            "array: [-24, 30, -71, 30, 90, 49, 51, 45, 54, -40, 70, -73, 54, 40, -53]\n",
            "--------------------------------------------------\n",
            "Sorted array : \n",
            "-73\n",
            "-71\n",
            "-53\n",
            "-40\n",
            "-24\n",
            "30\n",
            "30\n",
            "40\n",
            "45\n",
            "49\n",
            "51\n",
            "54\n",
            "54\n",
            "70\n",
            "90\n"
          ],
          "name": "stdout"
        }
      ]
    }
  ]
}