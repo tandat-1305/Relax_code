{
  "nbformat": 4,
  "nbformat_minor": 0,
  "metadata": {
    "colab": {
      "name": "Merge_Sort.ipynb",
      "provenance": [],
      "authorship_tag": "ABX9TyPvjjZSuLiXlUEWXJy8pMmD",
      "include_colab_link": true
    },
    "kernelspec": {
      "name": "python3",
      "display_name": "Python 3"
    },
    "language_info": {
      "name": "python"
    }
  },
  "cells": [
    {
      "cell_type": "markdown",
      "metadata": {
        "id": "view-in-github",
        "colab_type": "text"
      },
      "source": [
        "<a href=\"https://colab.research.google.com/github/tandat-1305/Relax_code/blob/main/Merge_Sort.ipynb\" target=\"_parent\"><img src=\"https://colab.research.google.com/assets/colab-badge.svg\" alt=\"Open In Colab\"/></a>"
      ]
    },
    {
      "cell_type": "code",
      "metadata": {
        "colab": {
          "base_uri": "https://localhost:8080/"
        },
        "id": "T-HV4hmLe2F5",
        "outputId": "cca7d7a3-eb68-43d7-8108-3d5f4d058219"
      },
      "source": [
        "ar = []\n",
        "for x in range(15):\n",
        "    a = random.randint(-100,100)\n",
        "    ar.append(a)\n",
        "\n",
        "def merge(ar, l, m, r):\n",
        "#l : left index \n",
        "#r : right index\n",
        "    x1 = m - l + 1\n",
        "    x2 = r- m\n",
        "  \n",
        "    L = [0] * (x1)\n",
        "    R = [0] * (x2)\n",
        "  \n",
        "    for i in range(0 , x1):\n",
        "        L[i] = ar[l + i]\n",
        "    for j in range(0 , x2):\n",
        "        R[j] = ar[m + 1 + j]\n",
        "\n",
        "    i = 0  \n",
        "    j = 0     \n",
        "    k = l    \n",
        "  \n",
        "    while i < x1:\n",
        "        ar[k] = L[i]\n",
        "        i += 1\n",
        "        k += 1\n",
        "\n",
        "    while i < x1 and j < x2 :\n",
        "        if L[i] <= R[j]:\n",
        "            ar[k] = L[i]\n",
        "            i += 1\n",
        "        else:\n",
        "            ar[k] = R[j]\n",
        "            j += 1\n",
        "        k += 1\n",
        "\n",
        "\n",
        "    while j < x2:\n",
        "        ar[k] = R[j]\n",
        "        j += 1\n",
        "        k += 1\n",
        "\n",
        "def mergeSort(ar,l,r):\n",
        "    if l < r:\n",
        "        m = (l+(r-1))//2\n",
        "        mergeSort(ar, l, m)\n",
        "        mergeSort(ar, m+1, r)\n",
        "        merge(ar, l, m, r)\n",
        "  \n",
        "print(\"array: \",ar)\n",
        "n = len(ar)\n",
        "print (\"Sorted array :\")\n",
        "for i in range(n):\n",
        "    print (\"%d\" %ar[i])\n",
        "print (\"Given array :\")\n",
        "\n",
        "for i in range(n):\n",
        "    print (\"%d\" %ar[i]),\n",
        "mergeSort(ar,0,n-1)\n"
      ],
      "execution_count": 2,
      "outputs": [
        {
          "output_type": "stream",
          "text": [
            "array:  [24, -81, 31, 82, 32, 16, -27, 22, -29, 20, -77, 79, -79, 88, 69]\n",
            "Sorted array :\n",
            "24\n",
            "-81\n",
            "31\n",
            "82\n",
            "32\n",
            "16\n",
            "-27\n",
            "22\n",
            "-29\n",
            "20\n",
            "-77\n",
            "79\n",
            "-79\n",
            "88\n",
            "69\n",
            "Given array :\n",
            "24\n",
            "-81\n",
            "31\n",
            "82\n",
            "32\n",
            "16\n",
            "-27\n",
            "22\n",
            "-29\n",
            "20\n",
            "-77\n",
            "79\n",
            "-79\n",
            "88\n",
            "69\n"
          ],
          "name": "stdout"
        }
      ]
    }
  ]
}