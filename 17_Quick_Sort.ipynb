{
  "nbformat": 4,
  "nbformat_minor": 0,
  "metadata": {
    "colab": {
      "name": "17_Quick_Sort.ipynb",
      "provenance": [],
      "authorship_tag": "ABX9TyM0sCCEY4WnI+93HGenEp5O",
      "include_colab_link": true
    },
    "kernelspec": {
      "name": "python3",
      "display_name": "Python 3"
    },
    "language_info": {
      "name": "python"
    }
  },
  "cells": [
    {
      "cell_type": "markdown",
      "metadata": {
        "id": "view-in-github",
        "colab_type": "text"
      },
      "source": [
        "<a href=\"https://colab.research.google.com/github/tandat-1305/Relax_code/blob/main/17_Quick_Sort.ipynb\" target=\"_parent\"><img src=\"https://colab.research.google.com/assets/colab-badge.svg\" alt=\"Open In Colab\"/></a>"
      ]
    },
    {
      "cell_type": "code",
      "metadata": {
        "colab": {
          "base_uri": "https://localhost:8080/"
        },
        "id": "bGXcfgaqY4v5",
        "outputId": "6a29a313-9304-4498-a313-4b926b5f0448"
      },
      "source": [
        "def phan_vung(ar, low, high):\n",
        "    i = (low-1)         \n",
        "    pivot = ar[high]     \n",
        "    for j in range(low, high):\n",
        "        if ar[j] <= pivot:\n",
        "\n",
        "            i = i+1\n",
        "            ar[i], ar[j] = ar[j], ar[i]\n",
        "    ar[i+1], ar[high] = ar[high], ar[i+1]\n",
        "    return (i+1)\n",
        "  \n",
        "def quickSort(ar, low, high):\n",
        "    if len(ar) == 1:\n",
        "        return ar\n",
        "    if low < high:\n",
        "        pi = phan_vung(ar, low, high)\n",
        "        quickSort(ar, low, pi-1)\n",
        "        quickSort(ar, pi+1, high)\n",
        "  \n",
        "ar = [11,12,13,14,15,16]\n",
        "n = len(ar)\n",
        "quickSort(ar, 0, n-1)\n",
        "print(\"Sorted aray is:\")\n",
        "\n",
        "for i in range(n):\n",
        "    print(\"%d\" % ar[i])"
      ],
      "execution_count": 4,
      "outputs": [
        {
          "output_type": "stream",
          "text": [
            "Sorted aray is:\n",
            "11\n",
            "12\n",
            "13\n",
            "14\n",
            "15\n",
            "16\n"
          ],
          "name": "stdout"
        }
      ]
    },
    {
      "cell_type": "code",
      "metadata": {
        "id": "SzcVi7r5YjSa"
      },
      "source": [
        "import random\n"
      ],
      "execution_count": 3,
      "outputs": []
    }
  ]
}