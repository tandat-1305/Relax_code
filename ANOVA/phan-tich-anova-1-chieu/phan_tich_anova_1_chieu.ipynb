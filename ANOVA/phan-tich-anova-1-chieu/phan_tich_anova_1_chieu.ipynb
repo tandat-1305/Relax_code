{
  "nbformat": 4,
  "nbformat_minor": 0,
  "metadata": {
    "kernelspec": {
      "display_name": "Python 3",
      "language": "python",
      "name": "python3"
    },
    "language_info": {
      "codemirror_mode": {
        "name": "ipython",
        "version": 3
      },
      "file_extension": ".py",
      "mimetype": "text/x-python",
      "name": "python",
      "nbconvert_exporter": "python",
      "pygments_lexer": "ipython3",
      "version": "3.7.3"
    },
    "colab": {
      "name": "phan-tich-anova-1-chieu.ipynb",
      "provenance": [],
      "include_colab_link": true
    }
  },
  "cells": [
    {
      "cell_type": "markdown",
      "metadata": {
        "id": "view-in-github",
        "colab_type": "text"
      },
      "source": [
        "<a href=\"https://colab.research.google.com/github/tandat-1305/Relax_code/blob/main/ANOVA/phan-tich-anova-1-chieu/phan_tich_anova_1_chieu.ipynb\" target=\"_parent\"><img src=\"https://colab.research.google.com/assets/colab-badge.svg\" alt=\"Open In Colab\"/></a>"
      ]
    },
    {
      "cell_type": "markdown",
      "metadata": {
        "id": "xQHom5-5jlWQ"
      },
      "source": [
        "PHÂN TÍCH ANOVA \n",
        "\n",
        "Tham khảo:\n",
        "\n",
        "(1) [ONE-WAY ANOVA](https://www.pythonfordatascience.org/anova-python/)\n",
        "\n",
        "(2) [ANOVA using Python (with examples)](https://www.reneshbedre.com/blog/anova.html)\n",
        "\n",
        "(3) [Hướng dẫn phân tích ANOVA bằng gói statsmodels](https://www.statsmodels.org/stable/examples/notebooks/generated/interactions_anova.html)"
      ]
    },
    {
      "cell_type": "markdown",
      "metadata": {
        "id": "7gJh2rb6jlWX"
      },
      "source": [
        "QUY TRÌNH PHÂN TÍCH ANOVA MỘT CHIỀU\n",
        "\n",
        "Kiểm tra các giả định:\n",
        "\n",
        "- Các mẫu độc lập với nhau\n",
        "- Các mẫu có cùng phương sai\n",
        "- Các mẫu đều tuân theo phân phối chuẩn\n",
        "\n",
        "Xây dựng giả thuyết\n",
        "\n",
        "$$H_{0}: \\mu_{0} = \\mu_{1} = ... = \\mu_{n}$$\n",
        "$$H_{a}: \\text{Có tối thiểu một cặp giá trị trung bình có giá trị khác nhau}$$\n",
        "\n",
        "Giá trị thống kê F được sử dụng trong việc ra quyết định của phân tích ANOVA một chiều. Công thức tính như sau:\n",
        "\n",
        "$$F = \\frac{MS_{B}}{MS_{W}}$$\n",
        "\n",
        "với:\n",
        "\n",
        "- $MS_{B} = \\frac{\\sum_{k}n_{k}(\\overline{\\rm x_{k}} - \\overline{\\rm x})^{2}}{k - 1}$\n",
        "- $MS_{W} = \\frac{\\sum_{k}n_{i,k}( x_{i,k} - \\overline{\\rm x})^{2}}{k - 1}$\n",
        "\n",
        "Loại bỏ giả thuyết $H_{0}$ khi chỉ số F > chỉ số F-critical (hoặc giá trị p tương ứng < 0.05!!!???)"
      ]
    },
    {
      "cell_type": "markdown",
      "metadata": {
        "id": "WGhzrL9gjlWY"
      },
      "source": [
        "Ví dụ về phân tích ANOVA một chiều"
      ]
    },
    {
      "cell_type": "code",
      "metadata": {
        "colab": {
          "base_uri": "https://localhost:8080/",
          "height": 195
        },
        "id": "tONBT8oajlWZ",
        "outputId": "606933f4-9f5e-412e-b5b5-acfab2ec6ed8"
      },
      "source": [
        "import pandas as pd\n",
        "\n",
        "#ĐỌc dữ liệu\n",
        "df = pd.read_csv(\"https://raw.githubusercontent.com/researchpy/Data-sets/master/difficile.csv\")\n",
        "df.head()"
      ],
      "execution_count": 1,
      "outputs": [
        {
          "output_type": "execute_result",
          "data": {
            "text/html": [
              "<div>\n",
              "<style scoped>\n",
              "    .dataframe tbody tr th:only-of-type {\n",
              "        vertical-align: middle;\n",
              "    }\n",
              "\n",
              "    .dataframe tbody tr th {\n",
              "        vertical-align: top;\n",
              "    }\n",
              "\n",
              "    .dataframe thead th {\n",
              "        text-align: right;\n",
              "    }\n",
              "</style>\n",
              "<table border=\"1\" class=\"dataframe\">\n",
              "  <thead>\n",
              "    <tr style=\"text-align: right;\">\n",
              "      <th></th>\n",
              "      <th>person</th>\n",
              "      <th>dose</th>\n",
              "      <th>libido</th>\n",
              "    </tr>\n",
              "  </thead>\n",
              "  <tbody>\n",
              "    <tr>\n",
              "      <th>0</th>\n",
              "      <td>1</td>\n",
              "      <td>1</td>\n",
              "      <td>3</td>\n",
              "    </tr>\n",
              "    <tr>\n",
              "      <th>1</th>\n",
              "      <td>2</td>\n",
              "      <td>1</td>\n",
              "      <td>2</td>\n",
              "    </tr>\n",
              "    <tr>\n",
              "      <th>2</th>\n",
              "      <td>3</td>\n",
              "      <td>1</td>\n",
              "      <td>1</td>\n",
              "    </tr>\n",
              "    <tr>\n",
              "      <th>3</th>\n",
              "      <td>4</td>\n",
              "      <td>1</td>\n",
              "      <td>1</td>\n",
              "    </tr>\n",
              "    <tr>\n",
              "      <th>4</th>\n",
              "      <td>5</td>\n",
              "      <td>1</td>\n",
              "      <td>4</td>\n",
              "    </tr>\n",
              "  </tbody>\n",
              "</table>\n",
              "</div>"
            ],
            "text/plain": [
              "   person  dose  libido\n",
              "0       1     1       3\n",
              "1       2     1       2\n",
              "2       3     1       1\n",
              "3       4     1       1\n",
              "4       5     1       4"
            ]
          },
          "metadata": {
            "tags": []
          },
          "execution_count": 1
        }
      ]
    },
    {
      "cell_type": "code",
      "metadata": {
        "colab": {
          "base_uri": "https://localhost:8080/",
          "height": 195
        },
        "id": "xrNn9maRjlWa",
        "outputId": "7d5a3a3a-9dea-4ff8-9568-e5993ab88f63"
      },
      "source": [
        "#Loại bỏ cột person, theo bạn thì lý do tại sao?\n",
        "df.drop('person', axis= 1, inplace= True)\n",
        "df.head()"
      ],
      "execution_count": 2,
      "outputs": [
        {
          "output_type": "execute_result",
          "data": {
            "text/html": [
              "<div>\n",
              "<style scoped>\n",
              "    .dataframe tbody tr th:only-of-type {\n",
              "        vertical-align: middle;\n",
              "    }\n",
              "\n",
              "    .dataframe tbody tr th {\n",
              "        vertical-align: top;\n",
              "    }\n",
              "\n",
              "    .dataframe thead th {\n",
              "        text-align: right;\n",
              "    }\n",
              "</style>\n",
              "<table border=\"1\" class=\"dataframe\">\n",
              "  <thead>\n",
              "    <tr style=\"text-align: right;\">\n",
              "      <th></th>\n",
              "      <th>dose</th>\n",
              "      <th>libido</th>\n",
              "    </tr>\n",
              "  </thead>\n",
              "  <tbody>\n",
              "    <tr>\n",
              "      <th>0</th>\n",
              "      <td>1</td>\n",
              "      <td>3</td>\n",
              "    </tr>\n",
              "    <tr>\n",
              "      <th>1</th>\n",
              "      <td>1</td>\n",
              "      <td>2</td>\n",
              "    </tr>\n",
              "    <tr>\n",
              "      <th>2</th>\n",
              "      <td>1</td>\n",
              "      <td>1</td>\n",
              "    </tr>\n",
              "    <tr>\n",
              "      <th>3</th>\n",
              "      <td>1</td>\n",
              "      <td>1</td>\n",
              "    </tr>\n",
              "    <tr>\n",
              "      <th>4</th>\n",
              "      <td>1</td>\n",
              "      <td>4</td>\n",
              "    </tr>\n",
              "  </tbody>\n",
              "</table>\n",
              "</div>"
            ],
            "text/plain": [
              "   dose  libido\n",
              "0     1       3\n",
              "1     1       2\n",
              "2     1       1\n",
              "3     1       1\n",
              "4     1       4"
            ]
          },
          "metadata": {
            "tags": []
          },
          "execution_count": 2
        }
      ]
    },
    {
      "cell_type": "code",
      "metadata": {
        "colab": {
          "base_uri": "https://localhost:8080/",
          "height": 195
        },
        "id": "uvFM1HRGjlWb",
        "outputId": "7d83b07e-f97d-47e8-a851-c4eb645d88d5"
      },
      "source": [
        "#Chuyển đổi giá trị cột dose từ 'định lượng' sang định tính\n",
        "df['dose'].replace({1: 'placebo', 2: 'low', 3: 'high'}, inplace= True)\n",
        "df.head()"
      ],
      "execution_count": 3,
      "outputs": [
        {
          "output_type": "execute_result",
          "data": {
            "text/html": [
              "<div>\n",
              "<style scoped>\n",
              "    .dataframe tbody tr th:only-of-type {\n",
              "        vertical-align: middle;\n",
              "    }\n",
              "\n",
              "    .dataframe tbody tr th {\n",
              "        vertical-align: top;\n",
              "    }\n",
              "\n",
              "    .dataframe thead th {\n",
              "        text-align: right;\n",
              "    }\n",
              "</style>\n",
              "<table border=\"1\" class=\"dataframe\">\n",
              "  <thead>\n",
              "    <tr style=\"text-align: right;\">\n",
              "      <th></th>\n",
              "      <th>dose</th>\n",
              "      <th>libido</th>\n",
              "    </tr>\n",
              "  </thead>\n",
              "  <tbody>\n",
              "    <tr>\n",
              "      <th>0</th>\n",
              "      <td>placebo</td>\n",
              "      <td>3</td>\n",
              "    </tr>\n",
              "    <tr>\n",
              "      <th>1</th>\n",
              "      <td>placebo</td>\n",
              "      <td>2</td>\n",
              "    </tr>\n",
              "    <tr>\n",
              "      <th>2</th>\n",
              "      <td>placebo</td>\n",
              "      <td>1</td>\n",
              "    </tr>\n",
              "    <tr>\n",
              "      <th>3</th>\n",
              "      <td>placebo</td>\n",
              "      <td>1</td>\n",
              "    </tr>\n",
              "    <tr>\n",
              "      <th>4</th>\n",
              "      <td>placebo</td>\n",
              "      <td>4</td>\n",
              "    </tr>\n",
              "  </tbody>\n",
              "</table>\n",
              "</div>"
            ],
            "text/plain": [
              "      dose  libido\n",
              "0  placebo       3\n",
              "1  placebo       2\n",
              "2  placebo       1\n",
              "3  placebo       1\n",
              "4  placebo       4"
            ]
          },
          "metadata": {
            "tags": []
          },
          "execution_count": 3
        }
      ]
    },
    {
      "cell_type": "code",
      "metadata": {
        "colab": {
          "base_uri": "https://localhost:8080/"
        },
        "id": "UdHm-UWFjlWb",
        "outputId": "da1ca4b6-628c-4d4a-922e-39bf2198734c"
      },
      "source": [
        "import numpy as np\n",
        "#Chuyển đổi df thành dạng phù hợp để phân tích ANOVA một chiều theo gói scipy.stats\n",
        "high = low =  placebo = []\n",
        "high = df['libido'][df['dose'] == 'high']\n",
        "low = df['libido'][df['dose'] == 'low']\n",
        "placebo = df['libido'][df['dose'] == 'placebo']\n",
        "print(high)"
      ],
      "execution_count": 4,
      "outputs": [
        {
          "output_type": "stream",
          "text": [
            "10    7\n",
            "11    4\n",
            "12    5\n",
            "13    3\n",
            "14    6\n",
            "Name: libido, dtype: int64\n"
          ],
          "name": "stdout"
        }
      ]
    },
    {
      "cell_type": "code",
      "metadata": {
        "colab": {
          "base_uri": "https://localhost:8080/"
        },
        "id": "UUwiFVcijlWb",
        "outputId": "6c580e98-1f44-4d93-c1ef-63e970a877d2"
      },
      "source": [
        "print(low)"
      ],
      "execution_count": 5,
      "outputs": [
        {
          "output_type": "stream",
          "text": [
            "5    5\n",
            "6    2\n",
            "7    4\n",
            "8    2\n",
            "9    3\n",
            "Name: libido, dtype: int64\n"
          ],
          "name": "stdout"
        }
      ]
    },
    {
      "cell_type": "code",
      "metadata": {
        "colab": {
          "base_uri": "https://localhost:8080/"
        },
        "id": "uCxyGq8IjlWc",
        "outputId": "fe1dd2f9-6ae1-49b6-80e1-4e8817922860"
      },
      "source": [
        "print(placebo)"
      ],
      "execution_count": 6,
      "outputs": [
        {
          "output_type": "stream",
          "text": [
            "0    3\n",
            "1    2\n",
            "2    1\n",
            "3    1\n",
            "4    4\n",
            "Name: libido, dtype: int64\n"
          ],
          "name": "stdout"
        }
      ]
    },
    {
      "cell_type": "code",
      "metadata": {
        "colab": {
          "base_uri": "https://localhost:8080/"
        },
        "id": "cGxkpAsRjlWc",
        "outputId": "15516ba9-8db4-49d8-82f7-e0ce1c000f49"
      },
      "source": [
        "import scipy.stats as stats\n",
        "\n",
        "stats.f_oneway(high,\n",
        "               low,\n",
        "               placebo)"
      ],
      "execution_count": 7,
      "outputs": [
        {
          "output_type": "execute_result",
          "data": {
            "text/plain": [
              "F_onewayResult(statistic=5.11864406779661, pvalue=0.024694289538222603)"
            ]
          },
          "metadata": {
            "tags": []
          },
          "execution_count": 7
        }
      ]
    },
    {
      "cell_type": "markdown",
      "metadata": {
        "id": "LV1ZEpJ2jlWd"
      },
      "source": [
        "p = 0.02 << 0.05 nên...????"
      ]
    },
    {
      "cell_type": "code",
      "metadata": {
        "id": "dYUe2udUjlWd"
      },
      "source": [
        "#Bài tập: Bạn hãy nối 3 list high, low, placebo ở trên vào trong 1 dataframe có 3 cột mỗi cột có tên là high, low, placebo\n",
        "#Code here"
      ],
      "execution_count": 8,
      "outputs": []
    },
    {
      "cell_type": "code",
      "metadata": {
        "colab": {
          "base_uri": "https://localhost:8080/"
        },
        "id": "IbC09uMojlWd",
        "outputId": "212bd90f-e48b-40fe-cffc-583f5f446e36"
      },
      "source": [
        "data = pd.DataFrame({\"High\": high, \"Low\": low, \"Placebo\": placebo})\n",
        "print(data)"
      ],
      "execution_count": 9,
      "outputs": [
        {
          "output_type": "stream",
          "text": [
            "    High  Low  Placebo\n",
            "0    NaN  NaN      3.0\n",
            "1    NaN  NaN      2.0\n",
            "2    NaN  NaN      1.0\n",
            "3    NaN  NaN      1.0\n",
            "4    NaN  NaN      4.0\n",
            "5    NaN  5.0      NaN\n",
            "6    NaN  2.0      NaN\n",
            "7    NaN  4.0      NaN\n",
            "8    NaN  2.0      NaN\n",
            "9    NaN  3.0      NaN\n",
            "10   7.0  NaN      NaN\n",
            "11   4.0  NaN      NaN\n",
            "12   5.0  NaN      NaN\n",
            "13   3.0  NaN      NaN\n",
            "14   6.0  NaN      NaN\n"
          ],
          "name": "stdout"
        }
      ]
    }
  ]
}