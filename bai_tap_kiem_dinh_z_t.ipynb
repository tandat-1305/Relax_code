{
  "nbformat": 4,
  "nbformat_minor": 0,
  "metadata": {
    "kernelspec": {
      "display_name": "Python 3",
      "language": "python",
      "name": "python3"
    },
    "language_info": {
      "codemirror_mode": {
        "name": "ipython",
        "version": 3
      },
      "file_extension": ".py",
      "mimetype": "text/x-python",
      "name": "python",
      "nbconvert_exporter": "python",
      "pygments_lexer": "ipython3",
      "version": "3.7.3"
    },
    "colab": {
      "name": "bai-tap-kiem-dinh-z-t.ipynb",
      "provenance": [],
      "include_colab_link": true
    }
  },
  "cells": [
    {
      "cell_type": "markdown",
      "metadata": {
        "id": "view-in-github",
        "colab_type": "text"
      },
      "source": [
        "<a href=\"https://colab.research.google.com/github/tandat-1305/Relax_code/blob/main/bai_tap_kiem_dinh_z_t.ipynb\" target=\"_parent\"><img src=\"https://colab.research.google.com/assets/colab-badge.svg\" alt=\"Open In Colab\"/></a>"
      ]
    },
    {
      "cell_type": "markdown",
      "metadata": {
        "id": "a4cmp9dzzOCQ"
      },
      "source": [
        "XÂY DỰNG CHƯƠNG TRÌNH KIỂM ĐỊNH Z (HOẶC T) CHO CÁC BÀI TẬP SAU\n",
        "\n",
        "Gợi ý:\n",
        "\n",
        "- Số liệu được sinh ngẫu nhiên theo phân phối chuẩn\n",
        "- Sử dụng gói phần mềm statsmodels để tiến hành kiểm định\n",
        "- Đối với các bài tập kiểm định giả thuyết thì sinh viên cần phát biểu các giả thuyết (bằng tiếng Việt) $H_{0}$ và $H_{a}$ trước khi lập trình kiểm định"
      ]
    },
    {
      "cell_type": "markdown",
      "metadata": {
        "id": "anJ5di5EzOCX"
      },
      "source": [
        "Bài 1: You’re a Q/C inspector for Gallo. The sample standard deviation for 2-liter bottles is .05 liters.  A random sample of 100 bottles showed sasmple mean = 1.99 liters.  What is the 90%  confidence interval estimate of the true mean amount in 2-liter bottles? "
      ]
    },
    {
      "cell_type": "code",
      "metadata": {
        "id": "-uSwb_tZzPZs"
      },
      "source": [
        "import numpy as np\n",
        "import pandas as pd\n",
        "import random\n",
        "from scipy import stats\n",
        "from statsmodels.stats.weightstats import ztest\n",
        "import warnings\n",
        "import matplotlib.pyplot as plt\n",
        "import seaborn as sns\n",
        "%matplotlib inline\n",
        "from statsmodels.stats import weightstats\n"
      ],
      "execution_count": 73,
      "outputs": []
    },
    {
      "cell_type": "code",
      "metadata": {
        "colab": {
          "base_uri": "https://localhost:8080/"
        },
        "id": "VAgzjHDfzOCY",
        "outputId": "69707f18-8462-4699-8a7d-d25cb0d10fdd"
      },
      "source": [
        "#Code here\n",
        "samples = np.random.normal(1.99, 0.05, 100)\n",
        "null_mean=1.99\n",
        "sigma = 0.05\n",
        "print(stats.norm.interval(1-0.1, loc=null_mean, scale=sigma))\n",
        "#Kiểm định z\n",
        "ts_score_1, pv= ztest(samples, value = null_mean, alternative='larger')\n",
        "print('z = ', ts_score_1,\n",
        "      'p = ', pv)\n",
        "if(pv <  0.1/2):\n",
        "  print(\"Có bằng chứng để bác bỏ giả thuyết H0\")\n",
        "else:\n",
        "  print(\"Chưa có bằng chứng để bác bỏ giả thuyết H0\") "
      ],
      "execution_count": 74,
      "outputs": [
        {
          "output_type": "stream",
          "text": [
            "(1.9077573186524264, 2.0722426813475736)\n",
            "z =  -0.6186709532313389 p =  0.7319334254786865\n",
            "Chưa có bằng chứng để bác bỏ giả thuyết H0\n"
          ],
          "name": "stdout"
        }
      ]
    },
    {
      "cell_type": "markdown",
      "metadata": {
        "id": "stMN4MP0zOCY"
      },
      "source": [
        "Bài 2: You’re a time study analyst in manufacturing.  You’ve recorded the following task times (min.): 3.6, 4.2, 4.0, 3.5, 3.8, 3.1. What is the 90% confidence interval estimate of the population mean task time? "
      ]
    },
    {
      "cell_type": "code",
      "metadata": {
        "colab": {
          "base_uri": "https://localhost:8080/"
        },
        "id": "Znt3MAGWzOCZ",
        "outputId": "af58d9ec-1ce9-4705-b83f-848f6ec3c691"
      },
      "source": [
        "a = np.array([3.6, 4.2, 4.0, 3.5, 3.8, 3.1])\n",
        "# xác định các thông số:\n",
        "null_mean = np.mean(a)\n",
        "sigma = np.std(a)\n",
        "print(stats.norm.interval(1-0.1, loc=null_mean, scale=sigma))\n",
        "#Kiểm định t\n",
        "ts_score_2, pv = stats.ttest_1samp(a, null_mean)\n",
        "print('t = ',ts_score_2,', p = ',pv)\n",
        "if(pv <  0.1):\n",
        "  print(\"Có bằng chứng để bác bỏ giả thuyết H0\")\n",
        "else:\n",
        "  print(\"Chưa có bằng chứng để bác bỏ giả thuyết H0\")"
      ],
      "execution_count": 75,
      "outputs": [
        {
          "output_type": "stream",
          "text": [
            "(3.114592303730054, 4.285407696269947)\n",
            "t =  0.0 , p =  1.0\n",
            "Chưa có bằng chứng để bác bỏ giả thuyết H0\n"
          ],
          "name": "stdout"
        }
      ]
    },
    {
      "cell_type": "markdown",
      "metadata": {
        "id": "eCZ91GjezOCZ"
      },
      "source": [
        "Bài 3: Does an average box of cereal contain 368 grams of cereal?  A random sample of 25 boxes had $\\overline{\\rm x}$ = 372.5.  The company has specified $\\sigma$ to be 25 grams.  Test at the .05 level of significance."
      ]
    },
    {
      "cell_type": "code",
      "metadata": {
        "colab": {
          "base_uri": "https://localhost:8080/"
        },
        "id": "Q_rkYc0EzOCZ",
        "outputId": "61c3e42b-ec4e-402e-a47e-e9caf1d4fec2"
      },
      "source": [
        "#Code here\n",
        "samples = np.random.normal(372.5, 25, 25)\n",
        "null_mean=368\n",
        "alpha = 0.05\n",
        "#kiểm định\n",
        "ts_score_1, pv = stats.ttest_1samp(samples, 368)\n",
        "print('t = ',ts_score_1,', p = ',pv)\n",
        "if(pv <  alpha/2):\n",
        "  print(\"Có bằng chứng để bác bỏ giả thuyết H0\")\n",
        "else:\n",
        "  print(\"Chưa có bằng chứng để bác bỏ giả thuyết H0\")"
      ],
      "execution_count": 76,
      "outputs": [
        {
          "output_type": "stream",
          "text": [
            "t =  3.024663733384851 , p =  0.00585209564525265\n",
            "Có bằng chứng để bác bỏ giả thuyết H0\n"
          ],
          "name": "stdout"
        }
      ]
    },
    {
      "cell_type": "markdown",
      "metadata": {
        "id": "UFLM9NPWzOCZ"
      },
      "source": [
        "Bài 4: You’re a Q/C inspector.  You want to find out if a new machine is making electrical cords to customer specification: average breaking strength of 70 lb. with $\\sigma$ = 3.5 lb.  You take a sample of 36 cords & compute a sample mean of 69.7 lb.  At the .05 level of significance, is there evidence that the machine is not meeting the average breaking strength?"
      ]
    },
    {
      "cell_type": "code",
      "metadata": {
        "colab": {
          "base_uri": "https://localhost:8080/"
        },
        "id": "Z5eJJQDmzOCa",
        "outputId": "b2696332-0841-4205-cb91-34a2fbf153ef"
      },
      "source": [
        "#Code here\n",
        "null_mean = 70\n",
        "alpha = 0.05\n",
        "\n",
        "samples = np.random.normal(69.7,3.5,36)\n",
        "\n",
        "# Kiểm định zz\n",
        "\n",
        "ztest_Score, pv= ztest(samples, value = null_mean, alternative='larger')\n",
        "print('z = ', ztest_Score, '; p = ', pv)\n",
        "if (pv <  alpha):\n",
        "  print(\"Có bằng chứng để bác bỏ giả thuyết H0\")\n",
        "else:\n",
        "  print(\"Chưa có bằng chứng để bác bỏ giả thuyết H0\")"
      ],
      "execution_count": 77,
      "outputs": [
        {
          "output_type": "stream",
          "text": [
            "z =  -0.3837401826824872 ; p =  0.6494144864791398\n",
            "Chưa có bằng chứng để bác bỏ giả thuyết H0\n"
          ],
          "name": "stdout"
        }
      ]
    },
    {
      "cell_type": "markdown",
      "metadata": {
        "id": "VCpXAFNnzOCa"
      },
      "source": [
        "Bài 5: Does an average box of cereal contain more than 368 grams of cereal?  A random sample of 25 boxes showed $\\overline{\\rm x}$ =  372.5.  The company has specified $\\sigma$ to be 25 grams.  Test at the .05 level of significance."
      ]
    },
    {
      "cell_type": "code",
      "metadata": {
        "colab": {
          "base_uri": "https://localhost:8080/"
        },
        "id": "9qosh_c3zOCa",
        "outputId": "74f1eb71-7510-4099-85e5-c045a9c8e21e"
      },
      "source": [
        "#Code here\n",
        "samples = np.random.normal(372.5, 25, 25)\n",
        "null_mean=368\n",
        "alpha = 0.05\n",
        "\n",
        "# Kiểm định zz\n",
        "ts_score_1, pv = stats.ttest_1samp(samples, 368)\n",
        "print('t = ',ts_score_1,', p = ',pv)\n",
        "if(pv <  alpha):\n",
        "  print(\"Có bằng chứng để bác bỏ giả thuyết H0\")\n",
        "else:\n",
        "  print(\"Chưa có bằng chứng để bác bỏ giả thuyết H0\")"
      ],
      "execution_count": 78,
      "outputs": [
        {
          "output_type": "stream",
          "text": [
            "t =  0.5112996611850811 , p =  0.6138132877023399\n",
            "Chưa có bằng chứng để bác bỏ giả thuyết H0\n"
          ],
          "name": "stdout"
        }
      ]
    },
    {
      "cell_type": "markdown",
      "metadata": {
        "id": "4J3clFoIzOCa"
      },
      "source": [
        "Bài 6: You’re an analyst for Ford.  You want to find out if the average miles per gallon of Escorts is at least 32 mpg. Similar models have a standard deviation of 3.8 mpg. You take a sample of 60 Escorts & compute a sample mean of 30.7 mpg. At the .01 level of significance, is there evidence that the miles per gallon is less than 32?"
      ]
    },
    {
      "cell_type": "code",
      "metadata": {
        "colab": {
          "base_uri": "https://localhost:8080/"
        },
        "id": "FMajmivizOCb",
        "outputId": "f9778be6-521a-453e-a264-bcda91a716ee"
      },
      "source": [
        "#Code here\n",
        "null_mean = 368\n",
        "\n",
        "#Sampling\n",
        "samples = np.random.normal(372.5, 25, 25)\n",
        "#Kiểm định t\n",
        "ts_score_1, pv = stats.ttest_1samp(samples, null_mean)\n",
        "print('p_value = ',pv)\n"
      ],
      "execution_count": 79,
      "outputs": [
        {
          "output_type": "stream",
          "text": [
            "p_value =  0.11030871471468531\n"
          ],
          "name": "stdout"
        }
      ]
    },
    {
      "cell_type": "markdown",
      "metadata": {
        "id": "FutyVU-4zOCb"
      },
      "source": [
        "Bài 7: Does an average box of cereal contain 368 grams of cereal?  A random sample of 25 boxes showed $\\overline{\\rm x}$ = 372.5.  The company has specified $\\sigma$ to be 15 grams.  Find the p-Value."
      ]
    },
    {
      "cell_type": "code",
      "metadata": {
        "colab": {
          "base_uri": "https://localhost:8080/"
        },
        "id": "6l1nhSQszOCb",
        "outputId": "7dd70504-d3b7-4faa-e3cf-716992eefa91"
      },
      "source": [
        "#Code here\n",
        "alpha = 0.01\n",
        "null_mean = 32\n",
        "samples = np.random.normal(30.7,3.8,60)\n",
        "#kiểm định \n",
        "ztest_Score, pv= ztest(samples, value = null_mean, alternative='larger')\n",
        "print('z = ', ztest_Score, '; p = ', pv)\n",
        "if (pv <  alpha)and (ztest_Score<0):\n",
        "  print(\"Có bằng chứng để bác bỏ giả thuyết H0\")\n",
        "else:\n",
        "  print(\"Chưa có bằng chứng để bác bỏ giả thuyết H0\")"
      ],
      "execution_count": 80,
      "outputs": [
        {
          "output_type": "stream",
          "text": [
            "z =  -2.779460055232088 ; p =  0.9972775325142108\n",
            "Chưa có bằng chứng để bác bỏ giả thuyết H0\n"
          ],
          "name": "stdout"
        }
      ]
    },
    {
      "cell_type": "markdown",
      "metadata": {
        "id": "qxmrA03hzOCb"
      },
      "source": [
        "Bài 8: Does an average box of cereal contain more than 368 grams of cereal?  A random sample of 25 boxes showed $\\overline{\\rm x}$ = 372.5.  The company has specified $\\sigma$ to be 15 grams.  Find the p-Value."
      ]
    },
    {
      "cell_type": "code",
      "metadata": {
        "colab": {
          "base_uri": "https://localhost:8080/"
        },
        "id": "rIM422mUzOCb",
        "outputId": "aaf0c39c-88ff-4b9c-dff5-25f291f631f1"
      },
      "source": [
        "#Code here\n",
        "null_mean = 368\n",
        "\n",
        "samples = np.random.normal(372.5, 25, 25)\n",
        "\n",
        "# Kiểm định t\n",
        "ts_score_1, pv = stats.ttest_1samp(samples, null_mean)\n",
        "print('p_value = ',pv)"
      ],
      "execution_count": 81,
      "outputs": [
        {
          "output_type": "stream",
          "text": [
            "p_value =  0.25595397403224\n"
          ],
          "name": "stdout"
        }
      ]
    },
    {
      "cell_type": "markdown",
      "metadata": {
        "id": "NpAh-aBpzOCc"
      },
      "source": [
        "Bài 9: You’re an analyst for Ford.  You want to find out if the average miles per gallon of Escorts is less than 32 mpg.   Similar models have a standard deviation of 3.8 mpg.  You take a sample of 60 Escorts & compute a sample mean of 30.7 mpg.  What is the value of the observed level of significance (p-Value)?"
      ]
    },
    {
      "cell_type": "code",
      "metadata": {
        "colab": {
          "base_uri": "https://localhost:8080/"
        },
        "id": "Imjm_Al1zOCc",
        "outputId": "bd5b116a-8eb9-4bd8-9825-07f94912f587"
      },
      "source": [
        "#Code here\n",
        "null_mean = 32\n",
        "\n",
        "samples = np.random.normal(30.7,3.8,60)\n",
        "\n",
        "# Kiểm định z\n",
        "ztest_Score, pv= ztest(samples, value = null_mean, alternative='larger')\n",
        "print(' p_value = ', pv)"
      ],
      "execution_count": 82,
      "outputs": [
        {
          "output_type": "stream",
          "text": [
            " p_value =  0.9894484274777997\n"
          ],
          "name": "stdout"
        }
      ]
    },
    {
      "cell_type": "markdown",
      "metadata": {
        "id": "xmn9DSM3zOCc"
      },
      "source": [
        "Bài 10: Does an average box of cereal contain 368 grams of cereal?  A random sample of 36 boxes had a mean of 372.5 and a standard deviation of 12 grams. Test at the .05 level of significance."
      ]
    },
    {
      "cell_type": "code",
      "metadata": {
        "colab": {
          "base_uri": "https://localhost:8080/"
        },
        "id": "EFDVz4opzOCe",
        "outputId": "fba32feb-6a1f-4e58-a217-c86d3bc006b6"
      },
      "source": [
        "#Code here\n",
        "null_mean = 368\n",
        "alpha = 0.05\n",
        "\n",
        "samples = np.random.normal(372.5, 12, 36)\n",
        "\n",
        "# Kiểm định Z\n",
        "ztest_Score, pv= ztest(samples, value = null_mean, alternative='larger')\n",
        "print('z = ', ztest_Score, '; p_value = ', pv)\n",
        "if (pv <  alpha/2):\n",
        "  print(\"Có bằng chứng để bác bỏ giả thuyết H0\")\n",
        "else:\n",
        "  print(\"Chưa có bằng chứng để bác bỏ giả thuyết H0\")"
      ],
      "execution_count": 83,
      "outputs": [
        {
          "output_type": "stream",
          "text": [
            "z =  3.1844349106204985 ; p_value =  0.0007251846214824321\n",
            "Có bằng chứng để bác bỏ giả thuyết H0\n"
          ],
          "name": "stdout"
        }
      ]
    },
    {
      "cell_type": "markdown",
      "metadata": {
        "id": "pLxkbj3lzOCe"
      },
      "source": [
        "Bài 11: You work for the FTC.  A manufacturer of detergent claims that the mean weight of detergent is 3.25 lb.  You take a random sample of 64 containers.  You calculate the sample average to be 3.238 lb. with a standard deviation of .117 lb.  At the .01 level of significance, is the manufacturer correct?"
      ]
    },
    {
      "cell_type": "code",
      "metadata": {
        "colab": {
          "base_uri": "https://localhost:8080/"
        },
        "id": "ldP7Qf9vzOCf",
        "outputId": "59f2ac55-3fe1-4a03-87a4-3b2d976d375b"
      },
      "source": [
        "#Code here\n",
        "null_mean = 3.25\n",
        "alpha = 0.01\n",
        "\n",
        "samples = np.random.normal(3.238, 0.117, 64)\n",
        "ztest_Score, pv= ztest(samples, value = null_mean, alternative='larger')\n",
        "print('z = ', ztest_Score, '; p = ', pv)\n",
        "if (pv <  alpha/2):\n",
        "  print(\"Có bằng chứng để bác bỏ giả thuyết H0\")\n",
        "else:\n",
        "  print(\"Chưa có bằng chứng để bác bỏ giả thuyết H0\")"
      ],
      "execution_count": 84,
      "outputs": [
        {
          "output_type": "stream",
          "text": [
            "z =  -0.6652520517107426 ; p =  0.7470553535244026\n",
            "Chưa có bằng chứng để bác bỏ giả thuyết H0\n"
          ],
          "name": "stdout"
        }
      ]
    },
    {
      "cell_type": "markdown",
      "metadata": {
        "id": "fIMTrA9QzOCf"
      },
      "source": [
        "Bài 12: Is the average capacity of batteries less than 140 ampere-hours?  A random sample of 20 batteries had a mean of 138.47 and a standard deviation of 2.66.  Assume a normal distribution. Test at the .05 level of significance."
      ]
    },
    {
      "cell_type": "code",
      "metadata": {
        "colab": {
          "base_uri": "https://localhost:8080/"
        },
        "id": "yrDMMsWZzOCf",
        "outputId": "5226fbac-6212-4eae-bde6-4d47458262cc"
      },
      "source": [
        "#Code here\n",
        "null_mean = 140\n",
        "alpha = 0.05\n",
        "\n",
        "samples = np.random.normal(138.47, 2.66, 20)\n",
        "# Kiểm định t\n",
        "ts_score_1, pv = stats.ttest_1samp(samples, null_mean)\n",
        "print('t = ',ts_score_1,', p_value = ',pv)\n",
        "if(pv <  alpha) and (ttest_Score>0):\n",
        "  print(\"Có bằng chứng để bác bỏ giả thuyết H0\")\n",
        "else:\n",
        "  print(\"Chưa có bằng chứng để bác bỏ giả thuyết H0\")"
      ],
      "execution_count": 85,
      "outputs": [
        {
          "output_type": "stream",
          "text": [
            "t =  -3.2805527185496755 , p_value =  0.0039338963074262295\n",
            "Có bằng chứng để bác bỏ giả thuyết H0\n"
          ],
          "name": "stdout"
        }
      ]
    },
    {
      "cell_type": "markdown",
      "metadata": {
        "id": "veFmB5LmzOCf"
      },
      "source": [
        "Bài 13: You’re a marketing analyst for Wal-Mart.  Wal-Mart had teddy bears on sale last week.  The weekly sales of bears sold in 10 stores was: 8  11  0   4   7   8   10   5   8   3. At the .05 level of significance, is there evidence that the average bear sales per store is more than 5?"
      ]
    },
    {
      "cell_type": "code",
      "metadata": {
        "colab": {
          "base_uri": "https://localhost:8080/"
        },
        "id": "Qixu6Y0GzOCf",
        "outputId": "a2932f29-721e-4b24-8aea-2bc7e8652693"
      },
      "source": [
        "#Code here\n",
        "a = np.array([8,11,0,4,7,8,10,5,8,3])\n",
        "null_mean = 5\n",
        "alpha = 0.05\n",
        "#Kiểm định t\n",
        "ttest_Score, pv = stats.ttest_1samp(a, null_mean)\n",
        "print('t = ',ttest_Score,', p_value = ',pv)\n",
        "if(pv <  alpha) and (ttest_Score>0):\n",
        "  print(\"Có bằng chứng để bác bỏ giả thuyết H0\")\n",
        "else:\n",
        "  print(\"Chưa có bằng chứng để bác bỏ giả thuyết H0\")"
      ],
      "execution_count": 86,
      "outputs": [
        {
          "output_type": "stream",
          "text": [
            "t =  1.3125000000000004 , p_value =  0.2218341554238571\n",
            "Chưa có bằng chứng để bác bỏ giả thuyết H0\n"
          ],
          "name": "stdout"
        }
      ]
    },
    {
      "cell_type": "code",
      "metadata": {
        "id": "spoObQAozOCf"
      },
      "source": [
        ""
      ],
      "execution_count": 86,
      "outputs": []
    }
  ]
}