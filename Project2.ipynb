{
  "nbformat": 4,
  "nbformat_minor": 0,
  "metadata": {
    "colab": {
      "name": "Project2.ipynb",
      "provenance": [],
      "collapsed_sections": [],
      "authorship_tag": "ABX9TyNQMyXUE7GuEpNgngDDP8D/",
      "include_colab_link": true
    },
    "kernelspec": {
      "name": "python3",
      "display_name": "Python 3"
    },
    "language_info": {
      "name": "python"
    }
  },
  "cells": [
    {
      "cell_type": "markdown",
      "metadata": {
        "id": "view-in-github",
        "colab_type": "text"
      },
      "source": [
        "<a href=\"https://colab.research.google.com/github/tandat-1305/Relax_code/blob/main/Project2.ipynb\" target=\"_parent\"><img src=\"https://colab.research.google.com/assets/colab-badge.svg\" alt=\"Open In Colab\"/></a>"
      ]
    },
    {
      "cell_type": "code",
      "metadata": {
        "id": "ScC27kPwSS-o"
      },
      "source": [
        "import numpy as np\n",
        "import statistics as stat\n",
        "from scipy import stats\n",
        "import matplotlib.mlab as mlab\n",
        "import matplotlib.pyplot as plt\n",
        "from scipy.stats import norm\n",
        "import statsmodels.api as sm\n",
        "import pylab as py\n"
      ],
      "execution_count": 265,
      "outputs": []
    },
    {
      "cell_type": "code",
      "metadata": {
        "colab": {
          "base_uri": "https://localhost:8080/"
        },
        "id": "4hXp7XJnYfIU",
        "outputId": "bc07315f-4b38-4da8-b629-ab810a55712a"
      },
      "source": [
        "data = np.random.normal(0,1,1000)\n",
        "data"
      ],
      "execution_count": 266,
      "outputs": [
        {
          "output_type": "execute_result",
          "data": {
            "text/plain": [
              "array([-1.22531269e+00, -2.47862213e-01,  4.71302814e-01,  4.22351052e-01,\n",
              "       -4.10059382e-01,  4.92714160e-01,  2.57874948e-01, -2.63944805e-01,\n",
              "       -8.69896329e-01,  5.34919413e-01, -1.06817812e+00, -7.86228433e-01,\n",
              "        5.94512948e-01,  8.11144097e-01,  1.01157967e+00,  9.23519180e-01,\n",
              "       -1.19523585e+00,  2.24004174e+00, -7.65571599e-01, -9.26594468e-01,\n",
              "        2.83027441e-01, -9.85674873e-01, -6.51243213e-01, -1.40417341e+00,\n",
              "        3.32802693e-01, -3.91218690e-01, -3.40932252e-01,  1.27911896e+00,\n",
              "       -3.04764152e+00, -1.90479311e+00, -2.62264805e+00,  1.48966010e-01,\n",
              "       -1.02592807e+00, -6.31355083e-01,  1.78830415e+00, -1.30604742e+00,\n",
              "       -2.78989825e-01, -2.58153072e-01,  6.13186005e-01,  1.93105174e-01,\n",
              "       -2.28402357e+00, -1.07623515e+00, -4.85674974e-01,  1.08264144e+00,\n",
              "        1.28106378e+00,  2.26555973e+00, -4.30704147e-01, -4.01663592e-01,\n",
              "       -1.43736102e-01,  2.36148430e-01, -1.98387549e-02, -7.98563030e-01,\n",
              "        1.87667715e+00,  7.73801044e-01,  1.08248090e-01,  1.37402406e+00,\n",
              "       -1.60433068e-01,  9.17959695e-01, -4.74199194e-01, -1.90140444e-01,\n",
              "       -6.82419380e-01,  6.86339525e-02,  1.02603244e+00, -6.25990214e-01,\n",
              "        1.22908979e+00,  2.32539119e-01,  1.44894238e+00,  3.39731149e-01,\n",
              "        2.04877972e+00, -7.02787718e-01, -1.31020395e+00,  1.06480273e+00,\n",
              "       -3.71771359e-01, -1.22453932e+00, -1.89093067e+00, -2.94275337e-01,\n",
              "       -9.63721535e-01, -8.62294260e-01,  8.83012772e-01, -4.23660610e-01,\n",
              "       -1.06085403e+00, -1.87131831e+00,  5.87676835e-01,  1.81751188e+00,\n",
              "       -1.50475450e+00,  4.51652570e-01,  1.34684062e+00,  1.47955908e+00,\n",
              "        3.70932270e-01,  1.08531820e+00, -1.34145228e+00, -7.11712271e-01,\n",
              "        6.81047988e-01,  5.60028916e-01,  8.58194098e-01,  7.36736308e-02,\n",
              "        1.85299714e-01,  3.17357759e-01, -9.25992432e-02,  2.83626057e-01,\n",
              "       -9.10453909e-02,  1.89096416e-01,  1.34222572e+00,  6.02649394e-01,\n",
              "       -5.43222986e-01,  3.42994490e-01,  1.16859327e+00,  3.71895288e-01,\n",
              "        5.76135044e-01, -2.15603666e-01,  1.66672091e-01,  9.49304177e-01,\n",
              "        6.19392314e-01, -2.72770154e-01, -8.40460041e-02,  1.35819831e+00,\n",
              "        6.40244890e-02, -2.23256261e-01, -1.37516564e-01,  3.45808214e-01,\n",
              "        8.15527167e-01,  1.09517550e-01,  4.49415733e-01, -1.27488998e+00,\n",
              "       -1.38791664e+00, -6.68588627e-01,  3.67731243e-01,  7.21425463e-01,\n",
              "        3.48163567e-01,  1.37716913e+00,  4.93369973e-01,  2.71031174e-01,\n",
              "       -1.04489490e+00,  3.95698146e-01,  2.75057979e-01,  6.45750368e-01,\n",
              "       -2.74700758e-01, -1.12866993e-02, -5.46304031e-01,  2.22150256e+00,\n",
              "        1.20100050e+00,  2.11292033e-01, -9.64706171e-01,  7.78528194e-01,\n",
              "        1.21266350e-01, -9.59644017e-01,  1.22453518e+00, -2.26764976e-02,\n",
              "       -1.53553569e+00,  2.26888924e-01,  1.45876013e+00,  8.31248395e-01,\n",
              "       -1.41122502e+00,  1.04292131e+00, -1.33228900e+00, -1.07884728e+00,\n",
              "       -5.44986964e-01, -8.61862486e-01, -7.74822542e-01,  1.12476178e+00,\n",
              "       -7.93287428e-01,  3.75653066e-01,  1.77509959e-01,  1.37431561e+00,\n",
              "       -1.88358704e-01,  5.14323755e-01,  7.60753313e-01, -5.52871485e-02,\n",
              "       -2.11568741e-01,  7.25226891e-01,  6.52867420e-01, -7.31970556e-01,\n",
              "       -1.79421198e+00,  6.65402473e-01,  4.26873408e-01,  1.55906147e+00,\n",
              "       -5.99905893e-02,  3.90569369e-01,  2.14839572e+00,  1.20083925e+00,\n",
              "       -7.47457149e-01,  4.14487440e-01,  1.23977504e+00,  6.51929200e-02,\n",
              "        5.68951577e-01,  6.45632683e-01,  1.64486535e+00, -2.57831285e-01,\n",
              "       -1.10199884e+00, -2.02437550e+00, -1.64230864e+00,  1.41717935e+00,\n",
              "        8.97213368e-01,  6.92109149e-01, -1.38844572e+00, -6.33848581e-01,\n",
              "        1.15445897e+00,  6.32803879e-01,  1.18401040e+00, -5.96258371e-01,\n",
              "        2.27700271e+00, -9.90142043e-01, -1.06459048e+00,  1.41364298e-01,\n",
              "       -1.29848978e+00,  6.07383026e-01, -6.66403461e-01,  3.35884084e-01,\n",
              "        5.21192314e-02,  8.44086232e-01, -1.31212804e+00,  6.36805986e-01,\n",
              "        1.06741831e-02, -6.52455402e-01,  1.13229920e+00,  7.08707999e-02,\n",
              "       -3.39076670e-01,  6.54084187e-01, -1.15101591e+00, -9.35666125e-01,\n",
              "       -6.96579898e-01, -7.25084331e-01, -4.79692404e-01, -9.01253914e-01,\n",
              "       -3.62095352e-01, -1.12144865e+00,  6.59717111e-01,  1.48106591e-02,\n",
              "       -8.37872520e-04,  5.77536812e-01,  1.65181451e+00,  1.58583499e+00,\n",
              "        9.11915965e-01, -2.38073597e-01, -1.82740739e+00, -3.76884693e-01,\n",
              "       -5.21929395e-01,  7.80475070e-02,  1.20179963e+00, -6.73949041e-01,\n",
              "       -7.53698977e-01,  9.88856487e-01,  2.64185416e+00, -1.30196544e+00,\n",
              "        2.97106391e-03, -5.88446702e-01, -4.49977133e-02,  2.66624484e-01,\n",
              "        1.76747548e+00, -2.00318850e-01,  2.00303856e+00,  1.07522127e+00,\n",
              "        9.41280248e-01,  6.32817229e-02, -4.01910345e-01,  7.18802750e-01,\n",
              "        1.22427254e+00, -4.49306543e-01, -1.44578623e+00,  7.41820409e-02,\n",
              "       -1.07411480e+00,  7.60475957e-01, -1.22808040e-01, -7.14618553e-01,\n",
              "       -4.46586623e-01, -9.95267825e-03,  1.33269977e+00, -1.17058549e-01,\n",
              "       -4.66563325e-02,  9.42597260e-01, -1.41427116e-01, -2.88475310e-01,\n",
              "       -2.33859090e-01,  1.52782617e+00,  1.19397559e+00, -1.28155630e+00,\n",
              "       -2.32143801e+00,  8.77347261e-01,  2.56361482e-02, -2.05012702e-01,\n",
              "        1.46923320e+00,  1.17229825e+00,  1.31908593e+00,  1.37177436e+00,\n",
              "       -2.44014143e-01, -3.98646317e-01, -1.95581876e-01,  1.01461356e+00,\n",
              "        1.30830600e+00,  6.42998968e-01,  4.94577226e-01,  2.53412064e+00,\n",
              "        7.83039704e-01,  9.60035375e-01, -9.39619120e-01,  5.57380128e-01,\n",
              "        1.31270476e+00, -5.03894297e-01, -1.13651999e-01,  7.66924385e-01,\n",
              "        1.70428951e+00, -2.67573094e+00,  1.14541043e+00, -1.03712626e+00,\n",
              "       -1.36715751e+00, -1.03330739e+00,  2.54963780e+00, -5.67634517e-02,\n",
              "        5.36916186e-01, -1.82128281e-01,  1.65954885e+00, -1.06706637e-01,\n",
              "       -1.82294033e+00, -7.41250346e-01, -8.15856279e-01, -1.77507678e-01,\n",
              "       -5.47370552e-01, -3.08987901e-01,  1.19613988e+00,  3.15464578e-01,\n",
              "       -1.13753121e+00,  9.25849500e-01,  2.26939213e-01, -1.23490143e-01,\n",
              "        7.15926272e-02,  8.89479861e-01, -2.65308976e-01,  7.19618691e-01,\n",
              "       -2.27914391e-01, -8.60082378e-02,  2.87367832e-01,  1.47885264e+00,\n",
              "        5.53120528e-01, -1.76440971e+00, -3.48188515e-01, -1.10266710e-03,\n",
              "       -6.15153535e-02, -4.29189406e-01,  2.40007087e-01, -1.15672163e+00,\n",
              "        1.68832636e-01, -8.08918010e-01, -1.38529813e+00,  6.72099380e-01,\n",
              "       -4.53494843e-01, -8.13658825e-01,  1.65505911e-02,  1.03425939e+00,\n",
              "       -5.01885645e-01, -3.62382487e-01,  8.33795341e-01, -6.34502951e-01,\n",
              "        5.56674568e-01, -1.23615965e+00, -4.63950904e-01,  2.15039040e-01,\n",
              "        1.35524339e+00, -1.31609596e+00, -1.29744483e-01, -9.83392313e-01,\n",
              "        4.49729971e-01,  4.23891744e-03,  1.27527557e+00,  9.02464962e-01,\n",
              "       -4.90986807e-01,  1.71971661e+00, -1.56209493e+00,  2.03477590e-01,\n",
              "        2.32336114e-01, -6.97987884e-01, -1.43467359e+00, -6.01749701e-01,\n",
              "       -7.26465597e-01, -1.09080736e+00,  6.24461422e-01, -8.42798955e-01,\n",
              "       -2.46007637e-01,  7.14575803e-01,  1.65062038e-01, -5.54400370e-01,\n",
              "       -7.45733195e-02, -3.73951027e-01,  4.68067846e-01, -1.28527303e+00,\n",
              "       -1.35813184e+00,  1.11910055e+00, -5.63378181e-01,  1.44856443e-01,\n",
              "       -6.88963131e-01, -5.92605516e-01, -7.34688340e-03, -3.36003024e-02,\n",
              "       -1.43158726e-01,  5.04275656e-01, -1.47312828e-01,  5.40377196e-01,\n",
              "       -1.83427730e-01,  4.82338178e-01,  1.68490274e+00, -1.52056147e+00,\n",
              "       -4.14369881e-03, -1.07234789e-01, -1.83000451e+00,  2.57159336e-01,\n",
              "       -4.60102202e-01,  6.54553531e-01, -5.03265797e-01, -2.93375256e+00,\n",
              "       -1.71822111e+00, -9.30740514e-01, -1.74384496e+00,  9.34011922e-01,\n",
              "       -4.68742949e-01,  9.83413569e-01,  4.30135420e-01,  1.28021853e+00,\n",
              "       -9.42006650e-01, -1.54009147e-02,  2.55960610e-01,  4.49048938e-01,\n",
              "        1.02153133e+00,  1.88187769e-01, -5.28068467e-01, -1.13456467e+00,\n",
              "       -7.73784442e-01,  1.37147592e+00,  5.92056420e-01,  2.98473069e-02,\n",
              "       -2.19686470e+00,  2.33963870e+00, -5.14657857e-01,  1.28436127e+00,\n",
              "       -4.82073277e-01,  1.13625656e-02, -1.30333523e+00,  1.45326379e-01,\n",
              "       -3.41568822e-01, -1.08774460e+00,  1.00440304e+00,  1.39195195e+00,\n",
              "        4.49548549e-01,  1.36805249e-01, -1.61142358e-01,  6.67284003e-01,\n",
              "        5.33225766e-01, -3.95997457e-01, -2.68195955e-01,  2.48847825e-01,\n",
              "        1.76742118e+00, -2.47058891e-01, -1.26925994e+00, -4.10984054e-01,\n",
              "        8.12092243e-01, -9.99860060e-03,  7.23590643e-01,  9.75260611e-01,\n",
              "       -4.91610935e-01,  5.35009536e-01,  1.55887668e+00,  7.23978174e-01,\n",
              "       -3.38372007e-01,  4.95792887e-01,  1.54241951e+00, -1.28187236e+00,\n",
              "       -2.55525062e-01, -1.51248412e+00, -1.38186105e-01,  1.70952064e+00,\n",
              "        1.27337796e+00,  2.70724799e+00,  2.14036332e+00,  1.42316022e-01,\n",
              "       -1.76118830e+00, -6.66153064e-01,  2.48047709e-01,  5.05263673e-01,\n",
              "        4.07386750e-01,  9.35588359e-01, -4.83720674e-01, -6.81275456e-01,\n",
              "        8.83268895e-01,  6.43555373e-02,  9.56858232e-01,  6.22530426e-02,\n",
              "        1.44666901e+00, -6.37091068e-01,  6.82199806e-01,  3.56374875e-01,\n",
              "       -8.12752615e-02, -1.08360054e+00, -1.56473535e+00,  2.38425447e-01,\n",
              "       -1.79872430e+00, -1.00517489e+00, -3.14383032e-01,  7.67791500e-01,\n",
              "       -1.13370376e+00,  2.95914532e-01, -7.36272226e-01,  1.55077679e+00,\n",
              "       -5.91795552e-01,  9.03447636e-01, -4.93218113e-01, -4.68337492e-01,\n",
              "       -1.03503767e+00, -4.33373439e-01,  3.76849498e-01,  4.31837947e-01,\n",
              "       -6.58766612e-01,  6.02500658e-01,  2.02744621e+00, -7.62676965e-01,\n",
              "       -2.17933476e-01, -7.85375149e-01, -3.24204836e-01,  1.13149471e-01,\n",
              "        5.15593265e-01,  1.63803315e+00,  4.88669009e-01,  5.02564081e-01,\n",
              "        1.06449609e+00, -6.59815035e-01,  2.03194111e+00, -1.27118513e+00,\n",
              "       -2.15228813e-01,  1.96818280e-01, -8.83734445e-02, -1.53568266e+00,\n",
              "        5.11031207e-01, -1.00148995e+00,  1.87188953e+00, -1.20050381e+00,\n",
              "        1.96455021e-01,  3.78175406e-01, -3.79703559e-01, -7.84020529e-02,\n",
              "       -6.33441095e-01, -9.51120313e-01, -1.00015014e-01, -1.85454313e+00,\n",
              "       -7.67180963e-02,  2.07506957e-01, -1.00548369e-01, -3.71588780e-01,\n",
              "        1.82266268e+00,  1.25189046e+00, -4.51762624e-01,  8.68440848e-01,\n",
              "        1.50946153e+00,  1.11628413e+00, -1.25791670e+00,  3.43555027e-01,\n",
              "        5.58518388e-02,  1.65519592e+00,  7.62448459e-01,  2.22733902e-01,\n",
              "       -8.33731249e-01, -6.91575438e-01, -1.29347769e+00,  1.01582399e-02,\n",
              "        8.82810807e-01, -3.90950049e-01, -1.90809008e-01,  4.65009233e-01,\n",
              "       -5.33771024e-02,  1.88036565e-01, -1.54900824e+00, -7.09958810e-01,\n",
              "        1.21452402e+00,  7.00463613e-01,  8.16159313e-01, -5.77855029e-01,\n",
              "       -4.62483838e-01, -4.10789299e-01, -7.05017704e-01,  4.54966770e-01,\n",
              "        1.55484216e+00,  5.81097437e-01, -5.85382333e-01, -2.12516285e-01,\n",
              "        1.13254501e-01,  8.80448184e-01,  2.78180000e-01,  1.34598216e+00,\n",
              "        4.92999686e-01, -7.14924214e-01, -1.42850579e+00,  5.87475312e-01,\n",
              "        1.01492118e+00,  1.22345067e+00, -1.83438233e+00,  1.41742393e-01,\n",
              "        3.47639412e-01,  6.57172065e-01,  7.47320356e-01,  2.90400730e-01,\n",
              "       -6.55708635e-02, -1.78311478e-01, -7.41173607e-01,  6.42768544e-01,\n",
              "       -1.84081603e-01,  5.15491459e-01, -8.65906342e-01, -1.08854123e+00,\n",
              "       -2.66135163e-01, -1.89087608e+00, -9.37854415e-01,  1.67419812e+00,\n",
              "       -1.40814397e+00,  5.63725725e-01,  1.63890937e+00, -1.14227399e-01,\n",
              "       -1.61924047e-01, -1.02994633e+00,  7.28131393e-02, -3.74819594e-01,\n",
              "       -5.92538094e-02, -5.30503412e-01,  8.22524285e-01, -2.45703928e+00,\n",
              "       -6.17108712e-01,  2.46014016e+00,  4.30357515e-01,  2.96564110e-01,\n",
              "       -9.97781604e-01, -1.05348134e+00, -4.60082822e-03, -1.28658435e+00,\n",
              "        4.01215025e-01,  1.13420508e+00,  9.66771983e-01,  1.93530813e+00,\n",
              "       -1.58810088e+00, -2.28312470e-01, -1.73488947e-01, -6.86465793e-01,\n",
              "        9.53765650e-01,  5.84094599e-01,  1.01924565e+00,  1.24351218e-01,\n",
              "       -2.29090545e-01, -1.16055004e+00,  1.51945831e+00,  2.14988981e-01,\n",
              "       -1.77961636e+00,  9.89261717e-01,  1.05951631e+00,  1.01915748e+00,\n",
              "        7.59455127e-01, -1.30766128e+00, -8.66092778e-01,  7.07901903e-01,\n",
              "       -3.63554534e-01,  9.47713301e-01,  1.29340470e-01, -6.45352852e-02,\n",
              "       -1.57064855e-01,  1.05072971e+00, -5.24573734e-01,  2.71178990e-01,\n",
              "        9.39647476e-01, -2.92717101e-02, -1.31198188e+00, -1.58572780e+00,\n",
              "       -1.76894933e-01, -1.19415100e+00,  1.70779013e-01, -2.37323307e+00,\n",
              "       -1.33854646e-01, -5.45996909e-01,  1.42811505e+00,  9.51967191e-01,\n",
              "       -5.71224062e-01, -3.52842782e+00,  1.39564120e-01,  6.32243136e-01,\n",
              "       -3.60742591e-01,  3.25533350e-01, -4.26581778e-01, -3.28560420e-01,\n",
              "       -1.31556657e+00, -7.64408840e-01,  1.71745557e-01, -2.96183942e-01,\n",
              "       -9.17547989e-01, -4.42364866e-01,  8.43230453e-01,  7.37482628e-01,\n",
              "       -4.93174536e-02, -7.21014891e-01,  4.82114941e-01,  8.12300211e-01,\n",
              "        7.99596279e-02,  1.21699173e-01, -2.95807997e-01, -3.02453991e-01,\n",
              "       -2.06678809e+00,  1.43026210e+00, -5.62083468e-02, -1.17684671e+00,\n",
              "        3.80507957e-02,  7.22455371e-02, -2.18858958e+00,  6.21426405e-01,\n",
              "       -1.52201510e+00,  1.67100262e-01, -6.82262426e-02, -2.73859092e-01,\n",
              "        8.70744299e-03,  5.73045671e-01, -8.50348397e-01, -1.75491337e-01,\n",
              "       -7.39696640e-01, -1.11747697e+00,  7.72241760e-01, -4.57385005e-01,\n",
              "        1.78105814e-01,  8.58555958e-01, -8.02386561e-02, -1.09988275e-02,\n",
              "        2.35703467e-01,  1.52964827e+00, -2.17657632e+00, -7.38207825e-01,\n",
              "       -3.25049807e-01,  6.35213811e-01, -1.68571521e+00,  3.58843126e-01,\n",
              "        9.98564874e-01,  6.08760155e-01, -2.66608344e-01,  1.02176420e+00,\n",
              "        8.74804469e-01, -6.52930931e-01,  3.69683242e-02, -1.65918552e+00,\n",
              "        1.29337865e+00,  3.81468463e-01, -7.50443535e-01, -6.71493498e-01,\n",
              "       -5.66800753e-01,  3.17790081e-01,  9.39484060e-01,  4.06380199e-01,\n",
              "       -1.09953570e+00,  1.08811093e+00,  1.12149557e+00, -1.84314149e-01,\n",
              "       -2.01687490e+00, -5.23635317e-01,  3.24238026e-01,  1.04649147e+00,\n",
              "        3.41194030e-01, -1.73023503e+00,  1.87025104e-02, -3.71214346e-01,\n",
              "        7.01402558e-01, -7.94114006e-02, -2.05193117e-01,  5.02597305e-01,\n",
              "        1.78652212e-01, -3.85323328e-01, -1.22739316e+00, -1.02079152e+00,\n",
              "        1.95953071e-01, -5.39737662e-01,  6.68949230e-01, -1.26164848e+00,\n",
              "        5.56849743e-02,  2.59683785e-01,  3.46278881e-01,  7.09752576e-01,\n",
              "       -5.58317002e-01,  2.48395778e-01, -7.78554466e-01,  1.45773975e+00,\n",
              "        5.42595718e-01,  2.43676573e-01, -1.12710905e-01, -1.48770110e+00,\n",
              "       -2.15169923e+00,  5.73558288e-01,  2.29024602e-01, -4.33323861e-02,\n",
              "       -8.26490047e-01, -1.36659765e+00, -1.40021196e-01,  2.59717228e-01,\n",
              "       -2.68859484e-01,  1.13154120e+00,  1.42198297e-01,  1.97153431e-01,\n",
              "       -6.05717296e-01, -8.65772321e-01, -1.49363356e+00, -1.25424934e+00,\n",
              "        3.92014346e-01,  5.67754726e-01, -1.52776420e+00, -2.51767085e-01,\n",
              "        3.26054957e-01,  1.39449046e+00,  7.73499663e-01, -2.46823989e-01,\n",
              "        1.42875351e+00, -1.08170776e+00,  8.87577158e-02, -8.75523768e-01,\n",
              "        1.51230365e+00,  1.28903167e-01,  4.51853799e-01, -1.34433177e+00,\n",
              "        7.40836518e-01,  1.60901205e+00, -1.88077358e-01,  1.12610563e+00,\n",
              "       -1.78813728e+00, -2.04710298e-01, -3.30878901e-01,  6.91683470e-02,\n",
              "        4.46199613e-01,  2.00795644e+00,  1.15538965e+00,  3.50935940e-01,\n",
              "       -1.67562892e+00, -7.51832787e-01, -8.30029883e-01,  4.35509947e-01,\n",
              "       -1.43678593e+00,  4.15666609e-01,  3.76767406e-01,  9.40047740e-01,\n",
              "       -3.74813923e-01,  2.52694556e-01, -6.07866426e-01,  1.16283875e+00,\n",
              "        1.51512941e-01,  1.04254730e-01, -1.55080675e+00,  2.15842290e+00,\n",
              "        4.07516164e-01,  3.57927082e-01, -7.62769182e-02,  1.19729890e+00,\n",
              "        2.69011992e-01,  1.67152522e-02,  2.03617919e-02,  1.42980190e-01,\n",
              "       -1.26106540e+00, -1.57914877e+00, -7.18218146e-01,  2.07856786e-01,\n",
              "        2.64484526e+00,  3.89156017e-01,  1.33591379e-01, -1.19684176e+00,\n",
              "        5.60838409e-01,  1.42517871e+00, -1.04417013e+00, -4.40836006e-01,\n",
              "        6.33333776e-01, -4.62139479e-01,  4.40311347e-01,  9.33813942e-01,\n",
              "        5.54320401e-01,  5.50505594e-01,  1.08315383e+00, -5.36705609e-01,\n",
              "       -1.39100258e+00,  5.57435361e-01,  1.65284647e+00,  4.40141478e-01,\n",
              "        5.07345101e-01,  1.24203877e+00, -2.92661122e-01, -6.51486438e-02,\n",
              "        3.46022379e-01,  1.14031746e+00,  2.02078081e+00, -8.04466398e-01,\n",
              "        6.80716948e-01, -6.25743112e-01,  8.75993943e-02,  1.38516580e+00,\n",
              "       -1.32411693e+00, -2.04324611e+00,  1.18610386e-01, -1.05284620e+00,\n",
              "        2.55936128e-01,  1.09464668e+00, -9.13687434e-01,  6.59378755e-01,\n",
              "       -4.96503132e-01, -5.16370294e-01, -1.37222387e+00, -5.02719262e-01,\n",
              "       -1.12757099e+00,  1.12344803e+00, -7.00461496e-01, -6.23625896e-01,\n",
              "       -2.38382198e-01,  3.63900054e-01, -9.60133331e-01, -4.41957205e-01,\n",
              "        1.94253739e+00,  6.42817042e-01,  6.55618528e-01,  1.06491583e+00,\n",
              "       -4.46040881e-01, -1.64024055e+00, -1.07028013e+00,  4.56641350e-02,\n",
              "       -1.04392967e+00, -7.66467804e-01, -2.63382994e-01, -1.47251814e+00,\n",
              "        5.75216586e-02, -7.49604643e-01, -1.66279143e+00, -8.67053786e-01,\n",
              "        1.41083527e-01,  2.25130716e-02,  1.61486280e+00, -4.30789101e-01,\n",
              "       -1.37401165e+00,  4.62424735e-01,  2.64365628e-01,  1.03131961e+00,\n",
              "       -6.23254604e-01,  2.76694376e-01,  7.13752339e-01, -5.17725455e-01,\n",
              "       -1.89172129e+00, -1.27656794e+00,  2.40186349e+00,  1.07256403e+00,\n",
              "       -7.64293173e-02,  7.68032623e-01,  1.38265983e+00, -1.15254206e+00,\n",
              "        1.35937013e-01,  2.21421543e+00, -1.39823085e+00,  1.70510714e-01,\n",
              "        1.61793973e+00, -3.68745670e-02,  5.17596871e-02, -3.33951048e-02,\n",
              "        1.71864686e+00,  3.07994939e-01, -4.29340368e-02,  6.41650576e-01,\n",
              "       -1.28025399e+00,  1.17627380e+00, -6.48216973e-01, -5.47641714e-01,\n",
              "       -1.84490306e+00, -1.17307734e+00, -2.20431180e-01, -1.11045706e+00,\n",
              "       -6.90538831e-02,  1.13304907e+00, -9.39822448e-01,  5.24508201e-02,\n",
              "        2.52350234e-01,  2.36406122e-01, -2.01351981e-01, -8.99948793e-01,\n",
              "        6.99719045e-01, -1.47664495e+00,  1.40864551e+00,  6.04946977e-01,\n",
              "        1.25947166e+00,  9.39673511e-02, -6.49577910e-01,  2.51116271e+00,\n",
              "        2.50622963e-01,  2.07324861e-01,  1.61056548e+00,  2.15326909e+00,\n",
              "       -9.06826766e-01,  7.06447603e-01, -6.52957797e-01,  5.44370415e-01,\n",
              "       -1.20777888e+00,  1.48224681e+00, -7.97345597e-02,  5.50462947e-01,\n",
              "       -1.07476520e-01, -1.00346425e-01,  3.81592384e-02,  1.21000906e-02,\n",
              "       -3.25728495e-01, -1.37028621e+00,  6.89957455e-01, -6.04354536e-01,\n",
              "        2.15754605e-01, -1.56241914e-01,  2.70255925e-01,  9.73390247e-01])"
            ]
          },
          "metadata": {
            "tags": []
          },
          "execution_count": 266
        }
      ]
    },
    {
      "cell_type": "code",
      "metadata": {
        "id": "A7HLT8FjVg6l"
      },
      "source": [
        "class abc:\n",
        "  def __init__(self,data):\n",
        "    self.data = data\n",
        "  def mean(self):\n",
        "    print('mean', np.mean(self.data))\n",
        "  def mode(self):\n",
        "    print('mode', stats.mode(self.data))\n",
        "  def median(self):\n",
        "    print('median', stat.median(self.data))\n",
        "  def max(self):\n",
        "    print('max', np.max(self.data))\n",
        "  def min(self):\n",
        "    print('min', np.min(self.data))\n",
        "  def hist(self):\n",
        "    print('Histogram', plt.plot(self.data))\n",
        "  def qtl(self):\n",
        "    print('Quantile', np.quantile(self.data,q=0.02))\n",
        "  def qq(self):\n",
        "    print('qq-plot', sm.qqplot(self.data))\n",
        "     "
      ],
      "execution_count": 267,
      "outputs": []
    },
    {
      "cell_type": "code",
      "metadata": {
        "colab": {
          "base_uri": "https://localhost:8080/"
        },
        "id": "A_jpIrvVSeym",
        "outputId": "c221225e-79e5-49f6-af64-4fa0ba964beb"
      },
      "source": [
        "a = abc(data)\n",
        "a.max()\n",
        "a.min()\n",
        "a.mean()\n",
        "a.median()\n",
        "a.mode()\n"
      ],
      "execution_count": 268,
      "outputs": [
        {
          "output_type": "stream",
          "text": [
            "max 2.7072479861776895\n",
            "min -3.5284278162519316\n",
            "mean 0.019665780294638665\n",
            "median 0.02407460986327284\n",
            "mode ModeResult(mode=array([-3.52842782]), count=array([1]))\n"
          ],
          "name": "stdout"
        }
      ]
    },
    {
      "cell_type": "code",
      "metadata": {
        "colab": {
          "base_uri": "https://localhost:8080/",
          "height": 286
        },
        "id": "fvUpIuwQiJS9",
        "outputId": "45db11ca-959e-4c70-e3b3-4ee1fa206449"
      },
      "source": [
        "a.hist()"
      ],
      "execution_count": 269,
      "outputs": [
        {
          "output_type": "stream",
          "text": [
            "Histogram [<matplotlib.lines.Line2D object at 0x7fe38071fd10>]\n"
          ],
          "name": "stdout"
        },
        {
          "output_type": "display_data",
          "data": {
            "image/png": "[encoded data removed]",
            "text/plain": [
              "<Figure size 432x288 with 1 Axes>"
            ]
          },
          "metadata": {
            "tags": [],
            "needs_background": "light"
          }
        }
      ]
    },
    {
      "cell_type": "code",
      "metadata": {
        "colab": {
          "base_uri": "https://localhost:8080/",
          "height": 300
        },
        "id": "m5jwxBxFjnhc",
        "outputId": "086263a7-8ae2-44ce-a100-940a2fe8532c"
      },
      "source": [
        "a.qq()"
      ],
      "execution_count": 270,
      "outputs": [
        {
          "output_type": "stream",
          "text": [
            "qq-plot Figure(432x288)\n"
          ],
          "name": "stdout"
        },
        {
          "output_type": "display_data",
          "data": {
            "image/png": "[encoded data removed]",
            "text/plain": [
              "<Figure size 432x288 with 1 Axes>"
            ]
          },
          "metadata": {
            "tags": [],
            "needs_background": "light"
          }
        }
      ]
    },
    {
      "cell_type": "code",
      "metadata": {
        "id": "gTObsqy9lakW",
        "colab": {
          "base_uri": "https://localhost:8080/"
        },
        "outputId": "360aa737-5feb-48e8-dd83-091d2c8cad50"
      },
      "source": [
        "a.qtl()"
      ],
      "execution_count": 271,
      "outputs": [
        {
          "output_type": "stream",
          "text": [
            "Quantile -1.8908771693578028\n"
          ],
          "name": "stdout"
        }
      ]
    }
  ]
}